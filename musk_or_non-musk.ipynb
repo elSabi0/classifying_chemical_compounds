{
 "cells": [
  {
   "cell_type": "markdown",
   "metadata": {},
   "source": [
    "# Classifying Organic Compounds as musk or non-musk"
   ]
  },
  {
   "cell_type": "markdown",
   "metadata": {},
   "source": [
    "### Problem Statement: \n",
    "Given the dataset about organic chemical compounds we have to classigy these compounds in two classes either musk or non-musk. So this is a binary class classfication problem."
   ]
  },
  {
   "cell_type": "markdown",
   "metadata": {},
   "source": [
    "### Dataset: https://drive.google.com/file/d/1pZhzZnaPi74aKCQImSPrzrTxWzVeE0qv/view?usp=sharing"
   ]
  },
  {
   "cell_type": "markdown",
   "metadata": {},
   "source": [
    "### Columns we have in our dataset:\n",
    "* ID                : serial number\n",
    "* Molecule_name     : Out of all the dataset we have only 102 unique molecule names\n",
    "* Conformation_name : unique name for every chemical compound\n",
    "* f1-f166           : numerical values\n",
    "* class             : either 0 or 1"
   ]
  },
  {
   "cell_type": "markdown",
   "metadata": {},
   "source": [
    "# 1. Reading the data"
   ]
  },
  {
   "cell_type": "code",
   "execution_count": 1,
   "metadata": {},
   "outputs": [
    {
     "name": "stderr",
     "output_type": "stream",
     "text": [
      "Using TensorFlow backend.\n"
     ]
    }
   ],
   "source": [
    "%matplotlib inline\n",
    "import warnings\n",
    "warnings.filterwarnings(\"ignore\")\n",
    "\n",
    "\n",
    "#import sqlite3\n",
    "import pandas as pd\n",
    "import numpy as np\n",
    "import nltk\n",
    "#import string\n",
    "import matplotlib.pyplot as plt\n",
    "import seaborn as sns\n",
    "from sklearn import preprocessing as process\n",
    "from sklearn.model_selection import train_test_split \n",
    "\n",
    "from keras.models import Sequential\n",
    "from keras.layers import Dense,Activation, Dropout"
   ]
  },
  {
   "cell_type": "markdown",
   "metadata": {},
   "source": [
    "Reading Data after importing all the required modules"
   ]
  },
  {
   "cell_type": "code",
   "execution_count": 2,
   "metadata": {},
   "outputs": [],
   "source": [
    "# reading the dataset using pandas read_csv\n",
    "\n",
    "organic_data = pd.read_csv(\"musk_csv.csv\")"
   ]
  },
  {
   "cell_type": "code",
   "execution_count": 3,
   "metadata": {},
   "outputs": [
    {
     "data": {
      "text/plain": [
       "(6598, 170)"
      ]
     },
     "execution_count": 3,
     "metadata": {},
     "output_type": "execute_result"
    }
   ],
   "source": [
    "# getting the rows and columns present in our dataset\n",
    "\n",
    "organic_data.shape"
   ]
  },
  {
   "cell_type": "code",
   "execution_count": 4,
   "metadata": {},
   "outputs": [
    {
     "data": {
      "text/html": [
       "<div>\n",
       "<style scoped>\n",
       "    .dataframe tbody tr th:only-of-type {\n",
       "        vertical-align: middle;\n",
       "    }\n",
       "\n",
       "    .dataframe tbody tr th {\n",
       "        vertical-align: top;\n",
       "    }\n",
       "\n",
       "    .dataframe thead th {\n",
       "        text-align: right;\n",
       "    }\n",
       "</style>\n",
       "<table border=\"1\" class=\"dataframe\">\n",
       "  <thead>\n",
       "    <tr style=\"text-align: right;\">\n",
       "      <th></th>\n",
       "      <th>ID</th>\n",
       "      <th>molecule_name</th>\n",
       "      <th>conformation_name</th>\n",
       "      <th>f1</th>\n",
       "      <th>f2</th>\n",
       "      <th>f3</th>\n",
       "      <th>f4</th>\n",
       "      <th>f5</th>\n",
       "      <th>f6</th>\n",
       "      <th>f7</th>\n",
       "      <th>...</th>\n",
       "      <th>f158</th>\n",
       "      <th>f159</th>\n",
       "      <th>f160</th>\n",
       "      <th>f161</th>\n",
       "      <th>f162</th>\n",
       "      <th>f163</th>\n",
       "      <th>f164</th>\n",
       "      <th>f165</th>\n",
       "      <th>f166</th>\n",
       "      <th>class</th>\n",
       "    </tr>\n",
       "  </thead>\n",
       "  <tbody>\n",
       "    <tr>\n",
       "      <th>0</th>\n",
       "      <td>1</td>\n",
       "      <td>MUSK-211</td>\n",
       "      <td>211_1+1</td>\n",
       "      <td>46</td>\n",
       "      <td>-108</td>\n",
       "      <td>-60</td>\n",
       "      <td>-69</td>\n",
       "      <td>-117</td>\n",
       "      <td>49</td>\n",
       "      <td>38</td>\n",
       "      <td>...</td>\n",
       "      <td>-308</td>\n",
       "      <td>52</td>\n",
       "      <td>-7</td>\n",
       "      <td>39</td>\n",
       "      <td>126</td>\n",
       "      <td>156</td>\n",
       "      <td>-50</td>\n",
       "      <td>-112</td>\n",
       "      <td>96</td>\n",
       "      <td>1</td>\n",
       "    </tr>\n",
       "    <tr>\n",
       "      <th>1</th>\n",
       "      <td>2</td>\n",
       "      <td>MUSK-211</td>\n",
       "      <td>211_1+10</td>\n",
       "      <td>41</td>\n",
       "      <td>-188</td>\n",
       "      <td>-145</td>\n",
       "      <td>22</td>\n",
       "      <td>-117</td>\n",
       "      <td>-6</td>\n",
       "      <td>57</td>\n",
       "      <td>...</td>\n",
       "      <td>-59</td>\n",
       "      <td>-2</td>\n",
       "      <td>52</td>\n",
       "      <td>103</td>\n",
       "      <td>136</td>\n",
       "      <td>169</td>\n",
       "      <td>-61</td>\n",
       "      <td>-136</td>\n",
       "      <td>79</td>\n",
       "      <td>1</td>\n",
       "    </tr>\n",
       "    <tr>\n",
       "      <th>2</th>\n",
       "      <td>3</td>\n",
       "      <td>MUSK-211</td>\n",
       "      <td>211_1+11</td>\n",
       "      <td>46</td>\n",
       "      <td>-194</td>\n",
       "      <td>-145</td>\n",
       "      <td>28</td>\n",
       "      <td>-117</td>\n",
       "      <td>73</td>\n",
       "      <td>57</td>\n",
       "      <td>...</td>\n",
       "      <td>-134</td>\n",
       "      <td>-154</td>\n",
       "      <td>57</td>\n",
       "      <td>143</td>\n",
       "      <td>142</td>\n",
       "      <td>165</td>\n",
       "      <td>-67</td>\n",
       "      <td>-145</td>\n",
       "      <td>39</td>\n",
       "      <td>1</td>\n",
       "    </tr>\n",
       "    <tr>\n",
       "      <th>3</th>\n",
       "      <td>4</td>\n",
       "      <td>MUSK-211</td>\n",
       "      <td>211_1+12</td>\n",
       "      <td>41</td>\n",
       "      <td>-188</td>\n",
       "      <td>-145</td>\n",
       "      <td>22</td>\n",
       "      <td>-117</td>\n",
       "      <td>-7</td>\n",
       "      <td>57</td>\n",
       "      <td>...</td>\n",
       "      <td>-60</td>\n",
       "      <td>-4</td>\n",
       "      <td>52</td>\n",
       "      <td>104</td>\n",
       "      <td>136</td>\n",
       "      <td>168</td>\n",
       "      <td>-60</td>\n",
       "      <td>-135</td>\n",
       "      <td>80</td>\n",
       "      <td>1</td>\n",
       "    </tr>\n",
       "    <tr>\n",
       "      <th>4</th>\n",
       "      <td>5</td>\n",
       "      <td>MUSK-211</td>\n",
       "      <td>211_1+13</td>\n",
       "      <td>41</td>\n",
       "      <td>-188</td>\n",
       "      <td>-145</td>\n",
       "      <td>22</td>\n",
       "      <td>-117</td>\n",
       "      <td>-7</td>\n",
       "      <td>57</td>\n",
       "      <td>...</td>\n",
       "      <td>-60</td>\n",
       "      <td>-4</td>\n",
       "      <td>52</td>\n",
       "      <td>104</td>\n",
       "      <td>137</td>\n",
       "      <td>168</td>\n",
       "      <td>-60</td>\n",
       "      <td>-135</td>\n",
       "      <td>80</td>\n",
       "      <td>1</td>\n",
       "    </tr>\n",
       "  </tbody>\n",
       "</table>\n",
       "<p>5 rows × 170 columns</p>\n",
       "</div>"
      ],
      "text/plain": [
       "   ID molecule_name conformation_name  f1   f2   f3  f4   f5  f6  f7  ...    \\\n",
       "0   1      MUSK-211           211_1+1  46 -108  -60 -69 -117  49  38  ...     \n",
       "1   2      MUSK-211          211_1+10  41 -188 -145  22 -117  -6  57  ...     \n",
       "2   3      MUSK-211          211_1+11  46 -194 -145  28 -117  73  57  ...     \n",
       "3   4      MUSK-211          211_1+12  41 -188 -145  22 -117  -7  57  ...     \n",
       "4   5      MUSK-211          211_1+13  41 -188 -145  22 -117  -7  57  ...     \n",
       "\n",
       "   f158  f159  f160  f161  f162  f163  f164  f165  f166  class  \n",
       "0  -308    52    -7    39   126   156   -50  -112    96      1  \n",
       "1   -59    -2    52   103   136   169   -61  -136    79      1  \n",
       "2  -134  -154    57   143   142   165   -67  -145    39      1  \n",
       "3   -60    -4    52   104   136   168   -60  -135    80      1  \n",
       "4   -60    -4    52   104   137   168   -60  -135    80      1  \n",
       "\n",
       "[5 rows x 170 columns]"
      ]
     },
     "execution_count": 4,
     "metadata": {},
     "output_type": "execute_result"
    }
   ],
   "source": [
    "organic_data.head(5)"
   ]
  },
  {
   "cell_type": "markdown",
   "metadata": {},
   "source": [
    "Analysing various featuers using pandas to get some knowlede about the features"
   ]
  },
  {
   "cell_type": "code",
   "execution_count": 5,
   "metadata": {},
   "outputs": [
    {
     "data": {
      "text/plain": [
       "count              6598\n",
       "unique              102\n",
       "top       NON-MUSK-j146\n",
       "freq               1044\n",
       "Name: molecule_name, dtype: object"
      ]
     },
     "execution_count": 5,
     "metadata": {},
     "output_type": "execute_result"
    }
   ],
   "source": [
    "organic_data['molecule_name'].describe()"
   ]
  },
  {
   "cell_type": "markdown",
   "metadata": {},
   "source": [
    "### Observation:\n",
    "* Here we can observe that out of total 6598 rows of data.\n",
    "* We have 102 unique molecule_name\n",
    "* With NON-MUSK-j146 occuring 1044 times in our data set."
   ]
  },
  {
   "cell_type": "code",
   "execution_count": 6,
   "metadata": {},
   "outputs": [
    {
     "data": {
      "text/plain": [
       "count         6598\n",
       "unique        6598\n",
       "top       j100_2+1\n",
       "freq             1\n",
       "Name: conformation_name, dtype: object"
      ]
     },
     "execution_count": 6,
     "metadata": {},
     "output_type": "execute_result"
    }
   ],
   "source": [
    "organic_data['conformation_name'].describe()"
   ]
  },
  {
   "cell_type": "markdown",
   "metadata": {},
   "source": [
    "### Observation:\n",
    "* Here all the values are unique.\n",
    "* We've unique 6598 conformation names."
   ]
  },
  {
   "cell_type": "code",
   "execution_count": 7,
   "metadata": {},
   "outputs": [
    {
     "data": {
      "text/plain": [
       "count    6598.000000\n",
       "mean       58.945135\n",
       "std        53.249007\n",
       "min       -31.000000\n",
       "25%        37.000000\n",
       "50%        44.000000\n",
       "75%        53.000000\n",
       "max       292.000000\n",
       "Name: f1, dtype: float64"
      ]
     },
     "execution_count": 7,
     "metadata": {},
     "output_type": "execute_result"
    }
   ],
   "source": [
    "organic_data['f1'].describe()"
   ]
  },
  {
   "cell_type": "code",
   "execution_count": 8,
   "metadata": {},
   "outputs": [
    {
     "data": {
      "text/plain": [
       "count    6598.000000\n",
       "mean     -119.128524\n",
       "std        90.813375\n",
       "min      -199.000000\n",
       "25%      -193.000000\n",
       "50%      -149.000000\n",
       "75%       -95.000000\n",
       "max        95.000000\n",
       "Name: f2, dtype: float64"
      ]
     },
     "execution_count": 8,
     "metadata": {},
     "output_type": "execute_result"
    }
   ],
   "source": [
    "organic_data['f2'].describe()"
   ]
  },
  {
   "cell_type": "code",
   "execution_count": 9,
   "metadata": {},
   "outputs": [
    {
     "data": {
      "text/plain": [
       "0"
      ]
     },
     "execution_count": 9,
     "metadata": {},
     "output_type": "execute_result"
    }
   ],
   "source": [
    "# checking if any of our datapoint contains null values\n",
    "\n",
    "organic_data.isnull().any().sum()"
   ]
  },
  {
   "cell_type": "markdown",
   "metadata": {},
   "source": [
    "### Observation:\n",
    "* Our dataset do not contains any null values."
   ]
  },
  {
   "cell_type": "code",
   "execution_count": 7,
   "metadata": {},
   "outputs": [
    {
     "name": "stdout",
     "output_type": "stream",
     "text": [
      "Number of data points of class 1 =  1017\n",
      "Number of data points of class 0 =  5581\n"
     ]
    }
   ],
   "source": [
    "# finding about various features of data usig pandas\n",
    "print(\"Number of data points of class 1 = \", len(organic_data[organic_data['class']== 1]))\n",
    "print(\"Number of data points of class 0 = \", len(organic_data[organic_data['class']== 0]))"
   ]
  },
  {
   "cell_type": "code",
   "execution_count": 6,
   "metadata": {},
   "outputs": [
    {
     "data": {
      "text/plain": [
       "<matplotlib.axes._subplots.AxesSubplot at 0x1b518fb72e8>"
      ]
     },
     "execution_count": 6,
     "metadata": {},
     "output_type": "execute_result"
    },
    {
     "data": {
      "image/png": "[encoded data removed]",
      "text/plain": [
       "<matplotlib.figure.Figure at 0x1b50540efd0>"
      ]
     },
     "metadata": {},
     "output_type": "display_data"
    }
   ],
   "source": [
    "organic_data['class'].value_counts().plot(kind= 'bar', figsize= (4,4))"
   ]
  },
  {
   "cell_type": "markdown",
   "metadata": {},
   "source": [
    "### Observation:\n",
    "* We can see that the data in our hand is severely imbalanced.\n",
    "* Thus we can not feed this imbalanced dataset directly into our model as we might get poor results."
   ]
  },
  {
   "cell_type": "markdown",
   "metadata": {},
   "source": [
    "# 2. Splitting data in train and validation"
   ]
  },
  {
   "cell_type": "markdown",
   "metadata": {},
   "source": [
    "So here we'll split the data and prepare it, so that we can input it in out model."
   ]
  },
  {
   "cell_type": "code",
   "execution_count": 9,
   "metadata": {},
   "outputs": [],
   "source": [
    "x = organic_data.drop(['ID', 'molecule_name', 'conformation_name', 'class'], axis=1)\n",
    "y = organic_data['class'].values"
   ]
  },
  {
   "cell_type": "code",
   "execution_count": 90,
   "metadata": {},
   "outputs": [
    {
     "name": "stdout",
     "output_type": "stream",
     "text": [
      "<class 'pandas.core.frame.DataFrame'>\n",
      "RangeIndex: 6598 entries, 0 to 6597\n",
      "Columns: 166 entries, f1 to f166\n",
      "dtypes: int64(166)\n",
      "memory usage: 8.4 MB\n"
     ]
    }
   ],
   "source": [
    "x.info()"
   ]
  },
  {
   "cell_type": "code",
   "execution_count": 10,
   "metadata": {},
   "outputs": [
    {
     "name": "stdout",
     "output_type": "stream",
     "text": [
      "(6598, 166)\n",
      "(6598,)\n"
     ]
    }
   ],
   "source": [
    "print(x.shape)\n",
    "print(y.shape)"
   ]
  },
  {
   "cell_type": "code",
   "execution_count": 11,
   "metadata": {},
   "outputs": [
    {
     "data": {
      "text/html": [
       "<div>\n",
       "<style scoped>\n",
       "    .dataframe tbody tr th:only-of-type {\n",
       "        vertical-align: middle;\n",
       "    }\n",
       "\n",
       "    .dataframe tbody tr th {\n",
       "        vertical-align: top;\n",
       "    }\n",
       "\n",
       "    .dataframe thead th {\n",
       "        text-align: right;\n",
       "    }\n",
       "</style>\n",
       "<table border=\"1\" class=\"dataframe\">\n",
       "  <thead>\n",
       "    <tr style=\"text-align: right;\">\n",
       "      <th></th>\n",
       "      <th>f1</th>\n",
       "      <th>f2</th>\n",
       "      <th>f3</th>\n",
       "      <th>f4</th>\n",
       "      <th>f5</th>\n",
       "      <th>f6</th>\n",
       "      <th>f7</th>\n",
       "      <th>f8</th>\n",
       "      <th>f9</th>\n",
       "      <th>f10</th>\n",
       "      <th>...</th>\n",
       "      <th>f157</th>\n",
       "      <th>f158</th>\n",
       "      <th>f159</th>\n",
       "      <th>f160</th>\n",
       "      <th>f161</th>\n",
       "      <th>f162</th>\n",
       "      <th>f163</th>\n",
       "      <th>f164</th>\n",
       "      <th>f165</th>\n",
       "      <th>f166</th>\n",
       "    </tr>\n",
       "  </thead>\n",
       "  <tbody>\n",
       "    <tr>\n",
       "      <th>0</th>\n",
       "      <td>46</td>\n",
       "      <td>-108</td>\n",
       "      <td>-60</td>\n",
       "      <td>-69</td>\n",
       "      <td>-117</td>\n",
       "      <td>49</td>\n",
       "      <td>38</td>\n",
       "      <td>-161</td>\n",
       "      <td>-8</td>\n",
       "      <td>5</td>\n",
       "      <td>...</td>\n",
       "      <td>-244</td>\n",
       "      <td>-308</td>\n",
       "      <td>52</td>\n",
       "      <td>-7</td>\n",
       "      <td>39</td>\n",
       "      <td>126</td>\n",
       "      <td>156</td>\n",
       "      <td>-50</td>\n",
       "      <td>-112</td>\n",
       "      <td>96</td>\n",
       "    </tr>\n",
       "    <tr>\n",
       "      <th>1</th>\n",
       "      <td>41</td>\n",
       "      <td>-188</td>\n",
       "      <td>-145</td>\n",
       "      <td>22</td>\n",
       "      <td>-117</td>\n",
       "      <td>-6</td>\n",
       "      <td>57</td>\n",
       "      <td>-171</td>\n",
       "      <td>-39</td>\n",
       "      <td>-100</td>\n",
       "      <td>...</td>\n",
       "      <td>-235</td>\n",
       "      <td>-59</td>\n",
       "      <td>-2</td>\n",
       "      <td>52</td>\n",
       "      <td>103</td>\n",
       "      <td>136</td>\n",
       "      <td>169</td>\n",
       "      <td>-61</td>\n",
       "      <td>-136</td>\n",
       "      <td>79</td>\n",
       "    </tr>\n",
       "    <tr>\n",
       "      <th>2</th>\n",
       "      <td>46</td>\n",
       "      <td>-194</td>\n",
       "      <td>-145</td>\n",
       "      <td>28</td>\n",
       "      <td>-117</td>\n",
       "      <td>73</td>\n",
       "      <td>57</td>\n",
       "      <td>-168</td>\n",
       "      <td>-39</td>\n",
       "      <td>-22</td>\n",
       "      <td>...</td>\n",
       "      <td>-238</td>\n",
       "      <td>-134</td>\n",
       "      <td>-154</td>\n",
       "      <td>57</td>\n",
       "      <td>143</td>\n",
       "      <td>142</td>\n",
       "      <td>165</td>\n",
       "      <td>-67</td>\n",
       "      <td>-145</td>\n",
       "      <td>39</td>\n",
       "    </tr>\n",
       "  </tbody>\n",
       "</table>\n",
       "<p>3 rows × 166 columns</p>\n",
       "</div>"
      ],
      "text/plain": [
       "   f1   f2   f3  f4   f5  f6  f7   f8  f9  f10  ...   f157  f158  f159  f160  \\\n",
       "0  46 -108  -60 -69 -117  49  38 -161  -8    5  ...   -244  -308    52    -7   \n",
       "1  41 -188 -145  22 -117  -6  57 -171 -39 -100  ...   -235   -59    -2    52   \n",
       "2  46 -194 -145  28 -117  73  57 -168 -39  -22  ...   -238  -134  -154    57   \n",
       "\n",
       "   f161  f162  f163  f164  f165  f166  \n",
       "0    39   126   156   -50  -112    96  \n",
       "1   103   136   169   -61  -136    79  \n",
       "2   143   142   165   -67  -145    39  \n",
       "\n",
       "[3 rows x 166 columns]"
      ]
     },
     "execution_count": 11,
     "metadata": {},
     "output_type": "execute_result"
    }
   ],
   "source": [
    "x.head(3)"
   ]
  },
  {
   "cell_type": "code",
   "execution_count": 12,
   "metadata": {},
   "outputs": [],
   "source": [
    "# here we are actually splitting our dataset using train test split into 80:20\n",
    "# 80% train and 20% test\n",
    "\n",
    "x_train, x_test , y_train, y_test = train_test_split(x, y, test_size= 0.2)"
   ]
  },
  {
   "cell_type": "code",
   "execution_count": 13,
   "metadata": {},
   "outputs": [
    {
     "name": "stdout",
     "output_type": "stream",
     "text": [
      "5278\n",
      "1320\n"
     ]
    }
   ],
   "source": [
    "print(len(x_train))\n",
    "print(len(x_test))"
   ]
  },
  {
   "cell_type": "markdown",
   "metadata": {},
   "source": [
    "### Also we need to scale the data before feeding it to the model"
   ]
  },
  {
   "cell_type": "markdown",
   "metadata": {},
   "source": [
    "There are various sclaer present and we can use any of them accoding to our requirement.\n",
    "1. MinMaxScaler\n",
    "2. StandardScaler\n",
    "3. RobustScaler"
   ]
  },
  {
   "cell_type": "code",
   "execution_count": 15,
   "metadata": {},
   "outputs": [],
   "source": [
    "# standardising our data using minmax-scaler \n",
    "# I used it initially but then later on used Standart scaler as it was giving me better accuracy\n",
    "\n",
    "scale = process.MinMaxScaler(feature_range=(0,1)) \n",
    "x_train = scale.fit_transform(x_train) \n",
    "x_test  = scale.transform(x_test)"
   ]
  },
  {
   "cell_type": "markdown",
   "metadata": {},
   "source": [
    "I have used MinMaxScaler initially but then switched to StandardScaler as it was giving me somewhat better model performance."
   ]
  },
  {
   "cell_type": "code",
   "execution_count": 33,
   "metadata": {},
   "outputs": [],
   "source": [
    "# standardising our data using standard-scaler\n",
    "# I prefered this as this was giving me better results in terms of model accuracy\n",
    "\n",
    "scale = process.StandardScaler() \n",
    "x_train = scale.fit_transform(x_train) \n",
    "x_test  = scale.transform(x_test)"
   ]
  },
  {
   "cell_type": "code",
   "execution_count": 88,
   "metadata": {},
   "outputs": [
    {
     "data": {
      "text/plain": [
       "numpy.ndarray"
      ]
     },
     "execution_count": 88,
     "metadata": {},
     "output_type": "execute_result"
    }
   ],
   "source": [
    "type(x_train)"
   ]
  },
  {
   "cell_type": "code",
   "execution_count": 35,
   "metadata": {},
   "outputs": [
    {
     "name": "stdout",
     "output_type": "stream",
     "text": [
      "[[-0.24104901  0.41079633  0.17736132 ... -0.37155292 -0.14879353\n",
      "  -0.61713841]\n",
      " [-0.44988022  0.1131053   1.20777163 ... -0.01050713 -0.17558342\n",
      "   1.01953064]\n",
      " [-0.44988022  0.92899924 -0.66168708 ... -0.064664   -0.09521375\n",
      "   0.92449825]\n",
      " ...\n",
      " [-0.2030797  -0.76894221  0.53064486 ... -0.44376207 -0.29613794\n",
      "  -0.30036375]\n",
      " [-0.22206436 -0.85714696 -1.04441091 ... -0.46181436 -0.45687728\n",
      "  -0.36371868]\n",
      " [-0.24104901 -0.86817255 -0.5439259  ... -0.44376207 -0.38990256\n",
      "  -0.36371868]]\n"
     ]
    }
   ],
   "source": [
    "print(x_train)"
   ]
  },
  {
   "cell_type": "markdown",
   "metadata": {},
   "source": [
    "### So as we encountered that our dataset was imbalanced and we can not direclty feed imbalanced dataset into our model, we need to deal with the imbalanced dataset first."
   ]
  },
  {
   "cell_type": "markdown",
   "metadata": {},
   "source": [
    "### There are various approaches to deal with imbalanced dataset like resampling, etc.\n",
    "### And further Resampling is also of two types;\n",
    "1. Undersampling\n",
    "2. Oversampling"
   ]
  },
  {
   "cell_type": "markdown",
   "metadata": {},
   "source": [
    "and because among these two techniques oversampling is prefered over undersampling so we'll use oversampling techniques. "
   ]
  },
  {
   "cell_type": "markdown",
   "metadata": {},
   "source": [
    "## 2.1. Using Random Over Sampler\n",
    "https://imbalanced-learn.readthedocs.io/en/stable/over_sampling.html"
   ]
  },
  {
   "cell_type": "code",
   "execution_count": 75,
   "metadata": {},
   "outputs": [],
   "source": [
    "from imblearn.over_sampling import RandomOverSampler\n",
    "\n",
    "ros = RandomOverSampler(random_state=0)\n",
    "x_train_resampled, y_train_resampled = ros.fit_resample(x_train, y_train)"
   ]
  },
  {
   "cell_type": "code",
   "execution_count": 76,
   "metadata": {},
   "outputs": [
    {
     "name": "stdout",
     "output_type": "stream",
     "text": [
      "8936\n",
      "8936\n"
     ]
    }
   ],
   "source": [
    "print(len(x_train_resampled))\n",
    "print(len(x_train_resampled))"
   ]
  },
  {
   "cell_type": "markdown",
   "metadata": {},
   "source": [
    "## 2.1.1 Model_1 with random over sampling"
   ]
  },
  {
   "cell_type": "code",
   "execution_count": 133,
   "metadata": {},
   "outputs": [
    {
     "name": "stdout",
     "output_type": "stream",
     "text": [
      "_________________________________________________________________\n",
      "Layer (type)                 Output Shape              Param #   \n",
      "=================================================================\n",
      "dense_37 (Dense)             (None, 64)                10688     \n",
      "_________________________________________________________________\n",
      "dense_38 (Dense)             (None, 32)                2080      \n",
      "_________________________________________________________________\n",
      "dense_39 (Dense)             (None, 1)                 33        \n",
      "=================================================================\n",
      "Total params: 12,801\n",
      "Trainable params: 12,801\n",
      "Non-trainable params: 0\n",
      "_________________________________________________________________\n",
      "None\n"
     ]
    }
   ],
   "source": [
    "import warnings\n",
    "warnings.filterwarnings(\"ignore\")\n",
    "\n",
    "model = Sequential()\n",
    "model.add(Dense(64,activation='relu', input_shape=(166,)))\n",
    "model.add(Dense(32,activation='relu'))\n",
    "model.add(Dense(1,activation='sigmoid'))\n",
    "model.compile(loss='binary_crossentropy', optimizer='adam', metrics=['accuracy'])\n",
    "print(model.summary())"
   ]
  },
  {
   "cell_type": "code",
   "execution_count": 78,
   "metadata": {
    "scrolled": true
   },
   "outputs": [
    {
     "name": "stdout",
     "output_type": "stream",
     "text": [
      "Train on 8936 samples, validate on 1320 samples\n",
      "Epoch 1/50\n",
      "8936/8936 [==============================] - 1s 68us/step - loss: 0.3618 - acc: 0.8362 - val_loss: 0.1692 - val_acc: 0.9417\n",
      "Epoch 2/50\n",
      "8936/8936 [==============================] - 0s 17us/step - loss: 0.1498 - acc: 0.9476 - val_loss: 0.0971 - val_acc: 0.9697\n",
      "Epoch 3/50\n",
      "8936/8936 [==============================] - 0s 18us/step - loss: 0.0880 - acc: 0.9735 - val_loss: 0.0553 - val_acc: 0.9811\n",
      "Epoch 4/50\n",
      "8936/8936 [==============================] - 0s 16us/step - loss: 0.0576 - acc: 0.9858 - val_loss: 0.0552 - val_acc: 0.9773\n",
      "Epoch 5/50\n",
      "8936/8936 [==============================] - 0s 17us/step - loss: 0.0391 - acc: 0.9905 - val_loss: 0.0308 - val_acc: 0.9902\n",
      "Epoch 6/50\n",
      "8936/8936 [==============================] - 0s 17us/step - loss: 0.0283 - acc: 0.9936 - val_loss: 0.0310 - val_acc: 0.9894\n",
      "Epoch 7/50\n",
      "8936/8936 [==============================] - 0s 17us/step - loss: 0.0207 - acc: 0.9956 - val_loss: 0.0249 - val_acc: 0.9932\n",
      "Epoch 8/50\n",
      "8936/8936 [==============================] - 0s 17us/step - loss: 0.0158 - acc: 0.9975 - val_loss: 0.0216 - val_acc: 0.9955\n",
      "Epoch 9/50\n",
      "8936/8936 [==============================] - 0s 17us/step - loss: 0.0110 - acc: 0.9984 - val_loss: 0.0181 - val_acc: 0.9939\n",
      "Epoch 10/50\n",
      "8936/8936 [==============================] - 0s 18us/step - loss: 0.0089 - acc: 0.9985 - val_loss: 0.0177 - val_acc: 0.9962\n",
      "Epoch 11/50\n",
      "8936/8936 [==============================] - 0s 16us/step - loss: 0.0060 - acc: 0.9997 - val_loss: 0.0126 - val_acc: 0.9977\n",
      "Epoch 12/50\n",
      "8936/8936 [==============================] - 0s 17us/step - loss: 0.0047 - acc: 0.9998 - val_loss: 0.0121 - val_acc: 0.9962\n",
      "Epoch 13/50\n",
      "8936/8936 [==============================] - 0s 17us/step - loss: 0.0045 - acc: 0.9996 - val_loss: 0.0124 - val_acc: 0.9977\n",
      "Epoch 14/50\n",
      "8936/8936 [==============================] - 0s 16us/step - loss: 0.0030 - acc: 0.9998 - val_loss: 0.0091 - val_acc: 0.9977\n",
      "Epoch 15/50\n",
      "8936/8936 [==============================] - 0s 17us/step - loss: 0.0023 - acc: 0.9999 - val_loss: 0.0100 - val_acc: 0.9977\n",
      "Epoch 16/50\n",
      "8936/8936 [==============================] - 0s 16us/step - loss: 0.0020 - acc: 1.0000 - val_loss: 0.0088 - val_acc: 0.9977\n",
      "Epoch 17/50\n",
      "8936/8936 [==============================] - 0s 17us/step - loss: 0.0018 - acc: 1.0000 - val_loss: 0.0081 - val_acc: 0.9977\n",
      "Epoch 18/50\n",
      "8936/8936 [==============================] - 0s 17us/step - loss: 0.0015 - acc: 1.0000 - val_loss: 0.0077 - val_acc: 0.9970\n",
      "Epoch 19/50\n",
      "8936/8936 [==============================] - 0s 17us/step - loss: 0.0011 - acc: 1.0000 - val_loss: 0.0078 - val_acc: 0.9977\n",
      "Epoch 20/50\n",
      "8936/8936 [==============================] - 0s 16us/step - loss: 0.0010 - acc: 1.0000 - val_loss: 0.0081 - val_acc: 0.9977\n",
      "Epoch 21/50\n",
      "8936/8936 [==============================] - 0s 17us/step - loss: 0.0011 - acc: 1.0000 - val_loss: 0.0069 - val_acc: 0.9977\n",
      "Epoch 22/50\n",
      "8936/8936 [==============================] - 0s 17us/step - loss: 6.9590e-04 - acc: 1.0000 - val_loss: 0.0074 - val_acc: 0.9977\n",
      "Epoch 23/50\n",
      "8936/8936 [==============================] - 0s 18us/step - loss: 6.2522e-04 - acc: 1.0000 - val_loss: 0.0063 - val_acc: 0.9985\n",
      "Epoch 24/50\n",
      "8936/8936 [==============================] - 0s 18us/step - loss: 5.5730e-04 - acc: 1.0000 - val_loss: 0.0066 - val_acc: 0.9977\n",
      "Epoch 25/50\n",
      "8936/8936 [==============================] - 0s 18us/step - loss: 4.7529e-04 - acc: 1.0000 - val_loss: 0.0062 - val_acc: 0.9985\n",
      "Epoch 26/50\n",
      "8936/8936 [==============================] - 0s 18us/step - loss: 4.3931e-04 - acc: 1.0000 - val_loss: 0.0059 - val_acc: 0.9985\n",
      "Epoch 27/50\n",
      "8936/8936 [==============================] - 0s 17us/step - loss: 3.7837e-04 - acc: 1.0000 - val_loss: 0.0059 - val_acc: 0.9985\n",
      "Epoch 28/50\n",
      "8936/8936 [==============================] - 0s 16us/step - loss: 3.6140e-04 - acc: 1.0000 - val_loss: 0.0058 - val_acc: 0.9985\n",
      "Epoch 29/50\n",
      "8936/8936 [==============================] - 0s 17us/step - loss: 3.3378e-04 - acc: 1.0000 - val_loss: 0.0053 - val_acc: 0.9985\n",
      "Epoch 30/50\n",
      "8936/8936 [==============================] - 0s 18us/step - loss: 2.8504e-04 - acc: 1.0000 - val_loss: 0.0052 - val_acc: 0.9985\n",
      "Epoch 31/50\n",
      "8936/8936 [==============================] - 0s 19us/step - loss: 2.6444e-04 - acc: 1.0000 - val_loss: 0.0058 - val_acc: 0.9985\n",
      "Epoch 32/50\n",
      "8936/8936 [==============================] - 0s 18us/step - loss: 2.5670e-04 - acc: 1.0000 - val_loss: 0.0057 - val_acc: 0.9985\n",
      "Epoch 33/50\n",
      "8936/8936 [==============================] - 0s 17us/step - loss: 2.2390e-04 - acc: 1.0000 - val_loss: 0.0050 - val_acc: 0.9985\n",
      "Epoch 34/50\n",
      "8936/8936 [==============================] - 0s 18us/step - loss: 2.0101e-04 - acc: 1.0000 - val_loss: 0.0057 - val_acc: 0.9985\n",
      "Epoch 35/50\n",
      "8936/8936 [==============================] - 0s 18us/step - loss: 1.9246e-04 - acc: 1.0000 - val_loss: 0.0050 - val_acc: 0.9985\n",
      "Epoch 36/50\n",
      "8936/8936 [==============================] - 0s 19us/step - loss: 1.7648e-04 - acc: 1.0000 - val_loss: 0.0056 - val_acc: 0.9985\n",
      "Epoch 37/50\n",
      "8936/8936 [==============================] - 0s 18us/step - loss: 1.6451e-04 - acc: 1.0000 - val_loss: 0.0052 - val_acc: 0.9985\n",
      "Epoch 38/50\n",
      "8936/8936 [==============================] - 0s 19us/step - loss: 1.4843e-04 - acc: 1.0000 - val_loss: 0.0053 - val_acc: 0.9985\n",
      "Epoch 39/50\n",
      "8936/8936 [==============================] - 0s 18us/step - loss: 1.4382e-04 - acc: 1.0000 - val_loss: 0.0054 - val_acc: 0.9985\n",
      "Epoch 40/50\n",
      "8936/8936 [==============================] - 0s 17us/step - loss: 1.3274e-04 - acc: 1.0000 - val_loss: 0.0053 - val_acc: 0.9985\n",
      "Epoch 41/50\n",
      "8936/8936 [==============================] - 0s 17us/step - loss: 1.2190e-04 - acc: 1.0000 - val_loss: 0.0048 - val_acc: 0.9985\n",
      "Epoch 42/50\n",
      "8936/8936 [==============================] - 0s 16us/step - loss: 1.1274e-04 - acc: 1.0000 - val_loss: 0.0054 - val_acc: 0.9985\n",
      "Epoch 43/50\n",
      "8936/8936 [==============================] - 0s 17us/step - loss: 1.0794e-04 - acc: 1.0000 - val_loss: 0.0050 - val_acc: 0.9985\n",
      "Epoch 44/50\n",
      "8936/8936 [==============================] - 0s 17us/step - loss: 9.7002e-05 - acc: 1.0000 - val_loss: 0.0048 - val_acc: 0.9985\n",
      "Epoch 45/50\n",
      "8936/8936 [==============================] - 0s 18us/step - loss: 9.1482e-05 - acc: 1.0000 - val_loss: 0.0049 - val_acc: 0.9985\n",
      "Epoch 46/50\n",
      "8936/8936 [==============================] - 0s 18us/step - loss: 8.5547e-05 - acc: 1.0000 - val_loss: 0.0048 - val_acc: 0.9985\n",
      "Epoch 47/50\n",
      "8936/8936 [==============================] - 0s 18us/step - loss: 7.9781e-05 - acc: 1.0000 - val_loss: 0.0048 - val_acc: 0.9985\n",
      "Epoch 48/50\n",
      "8936/8936 [==============================] - 0s 17us/step - loss: 7.6228e-05 - acc: 1.0000 - val_loss: 0.0049 - val_acc: 0.9985\n",
      "Epoch 49/50\n",
      "8936/8936 [==============================] - 0s 17us/step - loss: 7.3675e-05 - acc: 1.0000 - val_loss: 0.0047 - val_acc: 0.9985\n",
      "Epoch 50/50\n",
      "8936/8936 [==============================] - 0s 18us/step - loss: 6.7696e-05 - acc: 1.0000 - val_loss: 0.0049 - val_acc: 0.9985\n"
     ]
    }
   ],
   "source": [
    "history = model.fit(x_train_resampled, y_train_resampled, epochs=50, batch_size=128, verbose=1, validation_data=(x_test, y_test))"
   ]
  },
  {
   "cell_type": "code",
   "execution_count": 79,
   "metadata": {
    "scrolled": true
   },
   "outputs": [
    {
     "data": {
      "image/png": "[encoded data removed]",
      "text/plain": [
       "<matplotlib.figure.Figure at 0x1b51e288978>"
      ]
     },
     "metadata": {},
     "output_type": "display_data"
    }
   ],
   "source": [
    "# Plot training & validation accuracy values\n",
    "plt.plot(history.history['acc'])\n",
    "plt.plot(history.history['val_acc'])\n",
    "plt.title('Model accuracy')\n",
    "plt.ylabel('Accuracy')\n",
    "plt.xlabel('Epoch')\n",
    "plt.legend(['Train', 'Test'], loc='upper left')\n",
    "plt.show()\n",
    "\n"
   ]
  },
  {
   "cell_type": "code",
   "execution_count": 80,
   "metadata": {},
   "outputs": [
    {
     "data": {
      "image/png": "[encoded data removed]",
      "text/plain": [
       "<matplotlib.figure.Figure at 0x1b51e2cd0f0>"
      ]
     },
     "metadata": {},
     "output_type": "display_data"
    }
   ],
   "source": [
    "# Plot training & validation loss values\n",
    "plt.plot(history.history['loss'])\n",
    "plt.plot(history.history['val_loss'])\n",
    "plt.title('Model loss')\n",
    "plt.ylabel('Loss')\n",
    "plt.xlabel('Epoch')\n",
    "plt.legend(['Train', 'Test'], loc='upper left')\n",
    "plt.show()"
   ]
  },
  {
   "cell_type": "code",
   "execution_count": 91,
   "metadata": {},
   "outputs": [
    {
     "name": "stdout",
     "output_type": "stream",
     "text": [
      "Accuracy : 99.85%\n"
     ]
    }
   ],
   "source": [
    "score = model.evaluate(x_test,y_test,verbose=0)\n",
    "print(\"Accuracy : %.2f%%\" % (score[1]*100))"
   ]
  },
  {
   "cell_type": "markdown",
   "metadata": {},
   "source": [
    "We can save our keras deep learning models and use it later by loading the model directly. There are two approaches;\n",
    "https://machinelearningmastery.com/save-load-keras-deep-learning-models/\n",
    "1. Save model to JSON\n",
    "2. Save model to YAML\n"
   ]
  },
  {
   "cell_type": "code",
   "execution_count": 137,
   "metadata": {},
   "outputs": [
    {
     "name": "stdout",
     "output_type": "stream",
     "text": [
      "Saved model to disk\n"
     ]
    }
   ],
   "source": [
    "# serialize model to JSON\n",
    "model_json = model.to_json()\n",
    "with open(\"model.json\", \"w\") as json_file:\n",
    "    json_file.write(model_json)\n",
    "# serialize weights to HDF5\n",
    "model.save_weights(\"model.h5\")\n",
    "print(\"Saved model to disk\")"
   ]
  },
  {
   "cell_type": "code",
   "execution_count": null,
   "metadata": {},
   "outputs": [],
   "source": [
    "# later... we can load the model here direcly if required\n",
    " \n",
    "# load json and create model\n",
    "json_file = open('model.json', 'r')\n",
    "loaded_model_json = json_file.read()\n",
    "json_file.close()\n",
    "loaded_model = model_from_json(loaded_model_json)\n",
    "# load weights into new model\n",
    "loaded_model.load_weights(\"model.h5\")\n",
    "print(\"Loaded model from disk\")"
   ]
  },
  {
   "cell_type": "markdown",
   "metadata": {},
   "source": [
    "## 2.2 SMOTE Overasmpling "
   ]
  },
  {
   "cell_type": "code",
   "execution_count": 92,
   "metadata": {},
   "outputs": [],
   "source": [
    "from imblearn.over_sampling import SMOTE\n",
    "x_train_smote, y_train_smote = SMOTE().fit_resample(x_train, y_train)"
   ]
  },
  {
   "cell_type": "code",
   "execution_count": 93,
   "metadata": {},
   "outputs": [
    {
     "name": "stdout",
     "output_type": "stream",
     "text": [
      "8936\n",
      "8936\n"
     ]
    }
   ],
   "source": [
    "print(len(x_train_smote))\n",
    "print(len(x_train_smote))"
   ]
  },
  {
   "cell_type": "markdown",
   "metadata": {},
   "source": [
    "## 2.2.1 Model_1 using SMOTE oversampling"
   ]
  },
  {
   "cell_type": "code",
   "execution_count": 94,
   "metadata": {},
   "outputs": [
    {
     "name": "stdout",
     "output_type": "stream",
     "text": [
      "_________________________________________________________________\n",
      "Layer (type)                 Output Shape              Param #   \n",
      "=================================================================\n",
      "dense_16 (Dense)             (None, 64)                10688     \n",
      "_________________________________________________________________\n",
      "dense_17 (Dense)             (None, 32)                2080      \n",
      "_________________________________________________________________\n",
      "dense_18 (Dense)             (None, 1)                 33        \n",
      "=================================================================\n",
      "Total params: 12,801\n",
      "Trainable params: 12,801\n",
      "Non-trainable params: 0\n",
      "_________________________________________________________________\n",
      "None\n"
     ]
    }
   ],
   "source": [
    "import warnings\n",
    "warnings.filterwarnings(\"ignore\")\n",
    "\n",
    "model = Sequential()\n",
    "model.add(Dense(64,activation='relu', input_shape=(166,)))\n",
    "model.add(Dense(32,activation='relu'))\n",
    "model.add(Dense(1,activation='sigmoid'))\n",
    "model.compile(loss='binary_crossentropy', optimizer='adam', metrics=['accuracy'])\n",
    "print(model.summary())"
   ]
  },
  {
   "cell_type": "code",
   "execution_count": 95,
   "metadata": {},
   "outputs": [
    {
     "name": "stdout",
     "output_type": "stream",
     "text": [
      "Train on 8936 samples, validate on 1320 samples\n",
      "Epoch 1/50\n",
      "8936/8936 [==============================] - 1s 71us/step - loss: 0.3669 - acc: 0.8395 - val_loss: 0.1754 - val_acc: 0.9348\n",
      "Epoch 2/50\n",
      "8936/8936 [==============================] - 0s 17us/step - loss: 0.1515 - acc: 0.9459 - val_loss: 0.1058 - val_acc: 0.9636\n",
      "Epoch 3/50\n",
      "8936/8936 [==============================] - 0s 18us/step - loss: 0.0900 - acc: 0.9701 - val_loss: 0.0745 - val_acc: 0.9712\n",
      "Epoch 4/50\n",
      "8936/8936 [==============================] - 0s 17us/step - loss: 0.0598 - acc: 0.9830 - val_loss: 0.0481 - val_acc: 0.9765\n",
      "Epoch 5/50\n",
      "8936/8936 [==============================] - 0s 17us/step - loss: 0.0395 - acc: 0.9907 - val_loss: 0.0458 - val_acc: 0.9818\n",
      "Epoch 6/50\n",
      "8936/8936 [==============================] - 0s 18us/step - loss: 0.0284 - acc: 0.9940 - val_loss: 0.0334 - val_acc: 0.9856\n",
      "Epoch 7/50\n",
      "8936/8936 [==============================] - 0s 17us/step - loss: 0.0210 - acc: 0.9959 - val_loss: 0.0315 - val_acc: 0.9879\n",
      "Epoch 8/50\n",
      "8936/8936 [==============================] - 0s 18us/step - loss: 0.0152 - acc: 0.9969 - val_loss: 0.0232 - val_acc: 0.9917\n",
      "Epoch 9/50\n",
      "8936/8936 [==============================] - 0s 17us/step - loss: 0.0104 - acc: 0.9990 - val_loss: 0.0244 - val_acc: 0.9917\n",
      "Epoch 10/50\n",
      "8936/8936 [==============================] - 0s 18us/step - loss: 0.0082 - acc: 0.9989 - val_loss: 0.0215 - val_acc: 0.9924\n",
      "Epoch 11/50\n",
      "8936/8936 [==============================] - 0s 17us/step - loss: 0.0062 - acc: 0.9997 - val_loss: 0.0166 - val_acc: 0.9947\n",
      "Epoch 12/50\n",
      "8936/8936 [==============================] - 0s 18us/step - loss: 0.0051 - acc: 0.9993 - val_loss: 0.0159 - val_acc: 0.9962\n",
      "Epoch 13/50\n",
      "8936/8936 [==============================] - 0s 19us/step - loss: 0.0038 - acc: 0.9996 - val_loss: 0.0148 - val_acc: 0.9955\n",
      "Epoch 14/50\n",
      "8936/8936 [==============================] - 0s 18us/step - loss: 0.0030 - acc: 0.9998 - val_loss: 0.0138 - val_acc: 0.9970\n",
      "Epoch 15/50\n",
      "8936/8936 [==============================] - 0s 17us/step - loss: 0.0024 - acc: 0.9999 - val_loss: 0.0118 - val_acc: 0.9962\n",
      "Epoch 16/50\n",
      "8936/8936 [==============================] - 0s 20us/step - loss: 0.0022 - acc: 1.0000 - val_loss: 0.0119 - val_acc: 0.9955\n",
      "Epoch 17/50\n",
      "8936/8936 [==============================] - 0s 19us/step - loss: 0.0016 - acc: 1.0000 - val_loss: 0.0109 - val_acc: 0.9962\n",
      "Epoch 18/50\n",
      "8936/8936 [==============================] - 0s 18us/step - loss: 0.0013 - acc: 1.0000 - val_loss: 0.0112 - val_acc: 0.9962\n",
      "Epoch 19/50\n",
      "8936/8936 [==============================] - 0s 17us/step - loss: 0.0011 - acc: 1.0000 - val_loss: 0.0117 - val_acc: 0.9947\n",
      "Epoch 20/50\n",
      "8936/8936 [==============================] - 0s 18us/step - loss: 9.0391e-04 - acc: 1.0000 - val_loss: 0.0101 - val_acc: 0.9970\n",
      "Epoch 21/50\n",
      "8936/8936 [==============================] - 0s 21us/step - loss: 7.6975e-04 - acc: 1.0000 - val_loss: 0.0114 - val_acc: 0.9947\n",
      "Epoch 22/50\n",
      "8936/8936 [==============================] - 0s 20us/step - loss: 6.9220e-04 - acc: 1.0000 - val_loss: 0.0102 - val_acc: 0.9955\n",
      "Epoch 23/50\n",
      "8936/8936 [==============================] - 0s 19us/step - loss: 6.6486e-04 - acc: 1.0000 - val_loss: 0.0119 - val_acc: 0.9962\n",
      "Epoch 24/50\n",
      "8936/8936 [==============================] - 0s 17us/step - loss: 5.4092e-04 - acc: 1.0000 - val_loss: 0.0105 - val_acc: 0.9962\n",
      "Epoch 25/50\n",
      "8936/8936 [==============================] - 0s 17us/step - loss: 4.7428e-04 - acc: 1.0000 - val_loss: 0.0118 - val_acc: 0.9955\n",
      "Epoch 26/50\n",
      "8936/8936 [==============================] - 0s 17us/step - loss: 4.3473e-04 - acc: 1.0000 - val_loss: 0.0098 - val_acc: 0.9962\n",
      "Epoch 27/50\n",
      "8936/8936 [==============================] - 0s 18us/step - loss: 3.8352e-04 - acc: 1.0000 - val_loss: 0.0103 - val_acc: 0.9962\n",
      "Epoch 28/50\n",
      "8936/8936 [==============================] - 0s 20us/step - loss: 3.6226e-04 - acc: 1.0000 - val_loss: 0.0105 - val_acc: 0.9955\n",
      "Epoch 29/50\n",
      "8936/8936 [==============================] - 0s 21us/step - loss: 3.1511e-04 - acc: 1.0000 - val_loss: 0.0099 - val_acc: 0.9955\n",
      "Epoch 30/50\n",
      "8936/8936 [==============================] - 0s 20us/step - loss: 2.9688e-04 - acc: 1.0000 - val_loss: 0.0100 - val_acc: 0.9962\n",
      "Epoch 31/50\n",
      "8936/8936 [==============================] - 0s 20us/step - loss: 2.6321e-04 - acc: 1.0000 - val_loss: 0.0099 - val_acc: 0.9962\n",
      "Epoch 32/50\n",
      "8936/8936 [==============================] - 0s 17us/step - loss: 2.4194e-04 - acc: 1.0000 - val_loss: 0.0101 - val_acc: 0.9955\n",
      "Epoch 33/50\n",
      "8936/8936 [==============================] - 0s 17us/step - loss: 2.2072e-04 - acc: 1.0000 - val_loss: 0.0093 - val_acc: 0.9962\n",
      "Epoch 34/50\n",
      "8936/8936 [==============================] - 0s 20us/step - loss: 2.0602e-04 - acc: 1.0000 - val_loss: 0.0102 - val_acc: 0.9962\n",
      "Epoch 35/50\n",
      "8936/8936 [==============================] - 0s 21us/step - loss: 1.8741e-04 - acc: 1.0000 - val_loss: 0.0101 - val_acc: 0.9962\n",
      "Epoch 36/50\n",
      "8936/8936 [==============================] - 0s 20us/step - loss: 1.7712e-04 - acc: 1.0000 - val_loss: 0.0103 - val_acc: 0.9962\n",
      "Epoch 37/50\n",
      "8936/8936 [==============================] - 0s 22us/step - loss: 1.6934e-04 - acc: 1.0000 - val_loss: 0.0095 - val_acc: 0.9970\n",
      "Epoch 38/50\n",
      "8936/8936 [==============================] - 0s 18us/step - loss: 1.4934e-04 - acc: 1.0000 - val_loss: 0.0100 - val_acc: 0.9962\n",
      "Epoch 39/50\n",
      "8936/8936 [==============================] - 0s 21us/step - loss: 1.3895e-04 - acc: 1.0000 - val_loss: 0.0092 - val_acc: 0.9970\n",
      "Epoch 40/50\n",
      "8936/8936 [==============================] - 0s 21us/step - loss: 1.3154e-04 - acc: 1.0000 - val_loss: 0.0100 - val_acc: 0.9955\n",
      "Epoch 41/50\n",
      "8936/8936 [==============================] - 0s 19us/step - loss: 1.2086e-04 - acc: 1.0000 - val_loss: 0.0094 - val_acc: 0.9962\n",
      "Epoch 42/50\n",
      "8936/8936 [==============================] - 0s 18us/step - loss: 1.1564e-04 - acc: 1.0000 - val_loss: 0.0099 - val_acc: 0.9962\n",
      "Epoch 43/50\n",
      "8936/8936 [==============================] - 0s 16us/step - loss: 1.0741e-04 - acc: 1.0000 - val_loss: 0.0096 - val_acc: 0.9970\n",
      "Epoch 44/50\n",
      "8936/8936 [==============================] - 0s 16us/step - loss: 1.0023e-04 - acc: 1.0000 - val_loss: 0.0100 - val_acc: 0.9962\n",
      "Epoch 45/50\n",
      "8936/8936 [==============================] - 0s 16us/step - loss: 9.1629e-05 - acc: 1.0000 - val_loss: 0.0092 - val_acc: 0.9970\n",
      "Epoch 46/50\n",
      "8936/8936 [==============================] - 0s 16us/step - loss: 8.6469e-05 - acc: 1.0000 - val_loss: 0.0100 - val_acc: 0.9970\n",
      "Epoch 47/50\n",
      "8936/8936 [==============================] - 0s 16us/step - loss: 8.3549e-05 - acc: 1.0000 - val_loss: 0.0094 - val_acc: 0.9970\n",
      "Epoch 48/50\n",
      "8936/8936 [==============================] - 0s 16us/step - loss: 7.8166e-05 - acc: 1.0000 - val_loss: 0.0097 - val_acc: 0.9970\n",
      "Epoch 49/50\n",
      "8936/8936 [==============================] - 0s 17us/step - loss: 7.3016e-05 - acc: 1.0000 - val_loss: 0.0096 - val_acc: 0.9970\n",
      "Epoch 50/50\n",
      "8936/8936 [==============================] - 0s 18us/step - loss: 6.7901e-05 - acc: 1.0000 - val_loss: 0.0098 - val_acc: 0.9970\n"
     ]
    }
   ],
   "source": [
    "history = model.fit(x_train_smote, y_train_smote, epochs=50, batch_size=128, verbose=1, validation_data=(x_test, y_test))"
   ]
  },
  {
   "cell_type": "code",
   "execution_count": 96,
   "metadata": {},
   "outputs": [
    {
     "data": {
      "image/png": "[encoded data removed]",
      "text/plain": [
       "<matplotlib.figure.Figure at 0x1b51e9bef28>"
      ]
     },
     "metadata": {},
     "output_type": "display_data"
    }
   ],
   "source": [
    "# Plot training & validation accuracy values\n",
    "plt.plot(history.history['acc'])\n",
    "plt.plot(history.history['val_acc'])\n",
    "plt.title('Model accuracy')\n",
    "plt.ylabel('Accuracy')\n",
    "plt.xlabel('Epoch')\n",
    "plt.legend(['Train', 'Test'], loc='upper left')\n",
    "plt.show()\n",
    "\n"
   ]
  },
  {
   "cell_type": "code",
   "execution_count": 97,
   "metadata": {},
   "outputs": [
    {
     "data": {
      "image/png": "[encoded data removed]",
      "text/plain": [
       "<matplotlib.figure.Figure at 0x1b51b1a75f8>"
      ]
     },
     "metadata": {},
     "output_type": "display_data"
    }
   ],
   "source": [
    "# Plot training & validation loss values\n",
    "plt.plot(history.history['loss'])\n",
    "plt.plot(history.history['val_loss'])\n",
    "plt.title('Model loss')\n",
    "plt.ylabel('Loss')\n",
    "plt.xlabel('Epoch')\n",
    "plt.legend(['Train', 'Test'], loc='upper left')\n",
    "plt.show()"
   ]
  },
  {
   "cell_type": "code",
   "execution_count": 98,
   "metadata": {},
   "outputs": [
    {
     "name": "stdout",
     "output_type": "stream",
     "text": [
      "Accuracy : 99.70%\n"
     ]
    }
   ],
   "source": [
    "score = model.evaluate(x_test,y_test,verbose=0)\n",
    "print(\"Accuracy : %.2f%%\" % (score[1]*100))"
   ]
  },
  {
   "cell_type": "markdown",
   "metadata": {},
   "source": [
    "## 3. Model_2 with random oversampling"
   ]
  },
  {
   "cell_type": "code",
   "execution_count": 125,
   "metadata": {},
   "outputs": [
    {
     "name": "stdout",
     "output_type": "stream",
     "text": [
      "_________________________________________________________________\n",
      "Layer (type)                 Output Shape              Param #   \n",
      "=================================================================\n",
      "dense_33 (Dense)             (None, 128)               21376     \n",
      "_________________________________________________________________\n",
      "dense_34 (Dense)             (None, 128)               16512     \n",
      "_________________________________________________________________\n",
      "dropout_3 (Dropout)          (None, 128)               0         \n",
      "_________________________________________________________________\n",
      "dense_35 (Dense)             (None, 32)                4128      \n",
      "_________________________________________________________________\n",
      "dense_36 (Dense)             (None, 1)                 33        \n",
      "=================================================================\n",
      "Total params: 42,049\n",
      "Trainable params: 42,049\n",
      "Non-trainable params: 0\n",
      "_________________________________________________________________\n",
      "None\n"
     ]
    }
   ],
   "source": [
    "\n",
    "model_2 = Sequential()\n",
    "model_2.add(Dense(128,activation='relu', input_shape=(166,)))\n",
    "model_2.add(Dense(128,activation='relu'))\n",
    "model_2.add(Dropout(0.5))\n",
    "model_2.add(Dense(32,activation='relu'))\n",
    "model_2.add(Dense(1,activation='sigmoid'))\n",
    "model_2.compile(loss='binary_crossentropy', optimizer='adam', metrics=['accuracy'])\n",
    "print(model_2.summary())"
   ]
  },
  {
   "cell_type": "code",
   "execution_count": 126,
   "metadata": {},
   "outputs": [
    {
     "name": "stdout",
     "output_type": "stream",
     "text": [
      "Train on 8936 samples, validate on 1320 samples\n",
      "Epoch 1/50\n",
      "8936/8936 [==============================] - 1s 115us/step - loss: 0.3524 - acc: 0.8333 - val_loss: 0.1234 - val_acc: 0.9515\n",
      "Epoch 2/50\n",
      "8936/8936 [==============================] - 0s 28us/step - loss: 0.1286 - acc: 0.9476 - val_loss: 0.0538 - val_acc: 0.9720\n",
      "Epoch 3/50\n",
      "8936/8936 [==============================] - 0s 28us/step - loss: 0.0792 - acc: 0.9725 - val_loss: 0.0397 - val_acc: 0.9841\n",
      "Epoch 4/50\n",
      "8936/8936 [==============================] - 0s 28us/step - loss: 0.0447 - acc: 0.9848 - val_loss: 0.0621 - val_acc: 0.9735\n",
      "Epoch 5/50\n",
      "8936/8936 [==============================] - 0s 27us/step - loss: 0.0293 - acc: 0.9904 - val_loss: 0.0276 - val_acc: 0.9917\n",
      "Epoch 6/50\n",
      "8936/8936 [==============================] - 0s 27us/step - loss: 0.0231 - acc: 0.9919 - val_loss: 0.0181 - val_acc: 0.9932\n",
      "Epoch 7/50\n",
      "8936/8936 [==============================] - 0s 28us/step - loss: 0.0163 - acc: 0.9944 - val_loss: 0.0136 - val_acc: 0.9939\n",
      "Epoch 8/50\n",
      "8936/8936 [==============================] - 0s 28us/step - loss: 0.0114 - acc: 0.9966 - val_loss: 0.0156 - val_acc: 0.9947\n",
      "Epoch 9/50\n",
      "8936/8936 [==============================] - 0s 28us/step - loss: 0.0067 - acc: 0.9982 - val_loss: 0.0110 - val_acc: 0.9947\n",
      "Epoch 10/50\n",
      "8936/8936 [==============================] - 0s 28us/step - loss: 0.0059 - acc: 0.9984 - val_loss: 0.0103 - val_acc: 0.9962\n",
      "Epoch 11/50\n",
      "8936/8936 [==============================] - 0s 27us/step - loss: 0.0036 - acc: 0.9994 - val_loss: 0.0125 - val_acc: 0.9962\n",
      "Epoch 12/50\n",
      "8936/8936 [==============================] - 0s 27us/step - loss: 0.0039 - acc: 0.9987 - val_loss: 0.0077 - val_acc: 0.9970\n",
      "Epoch 13/50\n",
      "8936/8936 [==============================] - 0s 28us/step - loss: 0.0115 - acc: 0.9969 - val_loss: 0.0154 - val_acc: 0.9955\n",
      "Epoch 14/50\n",
      "8936/8936 [==============================] - 0s 27us/step - loss: 0.0070 - acc: 0.9982 - val_loss: 0.0175 - val_acc: 0.9924\n",
      "Epoch 15/50\n",
      "8936/8936 [==============================] - 0s 28us/step - loss: 0.0120 - acc: 0.9960 - val_loss: 0.0089 - val_acc: 0.9977\n",
      "Epoch 16/50\n",
      "8936/8936 [==============================] - 0s 28us/step - loss: 0.0037 - acc: 0.9991 - val_loss: 0.0088 - val_acc: 0.9955\n",
      "Epoch 17/50\n",
      "8936/8936 [==============================] - 0s 29us/step - loss: 6.8778e-04 - acc: 1.0000 - val_loss: 0.0062 - val_acc: 0.9977\n",
      "Epoch 18/50\n",
      "8936/8936 [==============================] - 0s 27us/step - loss: 6.2036e-04 - acc: 0.9999 - val_loss: 0.0069 - val_acc: 0.9962\n",
      "Epoch 19/50\n",
      "8936/8936 [==============================] - 0s 29us/step - loss: 0.0017 - acc: 0.9994 - val_loss: 0.0060 - val_acc: 0.9970\n",
      "Epoch 20/50\n",
      "8936/8936 [==============================] - 0s 31us/step - loss: 0.0073 - acc: 0.9975 - val_loss: 0.0160 - val_acc: 0.9939\n",
      "Epoch 21/50\n",
      "8936/8936 [==============================] - 0s 30us/step - loss: 0.0026 - acc: 0.9991 - val_loss: 0.0085 - val_acc: 0.9977\n",
      "Epoch 22/50\n",
      "8936/8936 [==============================] - 0s 30us/step - loss: 9.5071e-04 - acc: 0.9998 - val_loss: 0.0038 - val_acc: 0.9985\n",
      "Epoch 23/50\n",
      "8936/8936 [==============================] - 0s 30us/step - loss: 8.9953e-04 - acc: 0.9997 - val_loss: 0.0099 - val_acc: 0.9962\n",
      "Epoch 24/50\n",
      "8936/8936 [==============================] - 0s 30us/step - loss: 0.0027 - acc: 0.9993 - val_loss: 0.0028 - val_acc: 0.9992\n",
      "Epoch 25/50\n",
      "8936/8936 [==============================] - 0s 30us/step - loss: 7.8412e-04 - acc: 0.9999 - val_loss: 0.0038 - val_acc: 0.9985\n",
      "Epoch 26/50\n",
      "8936/8936 [==============================] - 0s 28us/step - loss: 1.6158e-04 - acc: 1.0000 - val_loss: 0.0030 - val_acc: 0.9977\n",
      "Epoch 27/50\n",
      "8936/8936 [==============================] - 0s 28us/step - loss: 0.0019 - acc: 0.9996 - val_loss: 0.0115 - val_acc: 0.9970\n",
      "Epoch 28/50\n",
      "8936/8936 [==============================] - 0s 28us/step - loss: 0.0032 - acc: 0.9989 - val_loss: 0.0169 - val_acc: 0.9955\n",
      "Epoch 29/50\n",
      "8936/8936 [==============================] - 0s 28us/step - loss: 0.0023 - acc: 0.9991 - val_loss: 0.0285 - val_acc: 0.9909\n",
      "Epoch 30/50\n",
      "8936/8936 [==============================] - 0s 28us/step - loss: 0.0090 - acc: 0.9973 - val_loss: 0.0078 - val_acc: 0.9962\n",
      "Epoch 31/50\n",
      "8936/8936 [==============================] - 0s 28us/step - loss: 0.0106 - acc: 0.9962 - val_loss: 0.0221 - val_acc: 0.9939\n",
      "Epoch 32/50\n",
      "8936/8936 [==============================] - 0s 27us/step - loss: 0.0080 - acc: 0.9972 - val_loss: 0.0079 - val_acc: 0.9977\n",
      "Epoch 33/50\n",
      "8936/8936 [==============================] - 0s 27us/step - loss: 0.0028 - acc: 0.9997 - val_loss: 0.0071 - val_acc: 0.9985\n",
      "Epoch 34/50\n",
      "8936/8936 [==============================] - 0s 28us/step - loss: 7.0670e-04 - acc: 0.9999 - val_loss: 0.0020 - val_acc: 0.9992\n",
      "Epoch 35/50\n",
      "8936/8936 [==============================] - 0s 29us/step - loss: 0.0056 - acc: 0.9987 - val_loss: 0.0095 - val_acc: 0.9985\n",
      "Epoch 36/50\n",
      "8936/8936 [==============================] - 0s 29us/step - loss: 0.0010 - acc: 0.9997 - val_loss: 0.0017 - val_acc: 0.9992\n",
      "Epoch 37/50\n",
      "8936/8936 [==============================] - 0s 29us/step - loss: 4.3144e-04 - acc: 0.9999 - val_loss: 0.0020 - val_acc: 0.9992\n",
      "Epoch 38/50\n",
      "8936/8936 [==============================] - 0s 28us/step - loss: 1.8578e-04 - acc: 1.0000 - val_loss: 0.0032 - val_acc: 0.9985\n",
      "Epoch 39/50\n",
      "8936/8936 [==============================] - 0s 28us/step - loss: 7.9030e-05 - acc: 1.0000 - val_loss: 0.0027 - val_acc: 0.9992\n",
      "Epoch 40/50\n",
      "8936/8936 [==============================] - 0s 28us/step - loss: 9.6475e-05 - acc: 1.0000 - val_loss: 0.0027 - val_acc: 0.9985\n",
      "Epoch 41/50\n",
      "8936/8936 [==============================] - 0s 28us/step - loss: 5.2135e-05 - acc: 1.0000 - val_loss: 0.0027 - val_acc: 0.9985\n",
      "Epoch 42/50\n",
      "8936/8936 [==============================] - 0s 28us/step - loss: 5.5085e-05 - acc: 1.0000 - val_loss: 0.0029 - val_acc: 0.9992\n",
      "Epoch 43/50\n",
      "8936/8936 [==============================] - 0s 28us/step - loss: 3.7114e-05 - acc: 1.0000 - val_loss: 0.0031 - val_acc: 0.9992\n",
      "Epoch 44/50\n",
      "8936/8936 [==============================] - 0s 27us/step - loss: 3.7264e-05 - acc: 1.0000 - val_loss: 0.0023 - val_acc: 0.9992\n",
      "Epoch 45/50\n",
      "8936/8936 [==============================] - 0s 29us/step - loss: 5.7604e-05 - acc: 1.0000 - val_loss: 0.0029 - val_acc: 0.9992\n",
      "Epoch 46/50\n",
      "8936/8936 [==============================] - 0s 28us/step - loss: 4.5331e-05 - acc: 1.0000 - val_loss: 0.0020 - val_acc: 0.9992\n",
      "Epoch 47/50\n",
      "8936/8936 [==============================] - 0s 29us/step - loss: 1.7951e-04 - acc: 1.0000 - val_loss: 0.0059 - val_acc: 0.9977\n",
      "Epoch 48/50\n",
      "8936/8936 [==============================] - 0s 28us/step - loss: 0.0145 - acc: 0.9962 - val_loss: 0.0560 - val_acc: 0.9841\n",
      "Epoch 49/50\n",
      "8936/8936 [==============================] - 0s 28us/step - loss: 0.0086 - acc: 0.9973 - val_loss: 0.0069 - val_acc: 0.9955\n",
      "Epoch 50/50\n",
      "8936/8936 [==============================] - 0s 28us/step - loss: 0.0054 - acc: 0.9983 - val_loss: 0.0071 - val_acc: 0.9977\n"
     ]
    }
   ],
   "source": [
    "history = model_2.fit(x_train_resampled, y_train_resampled, epochs=50, batch_size=128, verbose=1, validation_data=(x_test, y_test))"
   ]
  },
  {
   "cell_type": "code",
   "execution_count": 127,
   "metadata": {
    "scrolled": true
   },
   "outputs": [
    {
     "data": {
      "image/png": "[encoded data removed]",
      "text/plain": [
       "<matplotlib.figure.Figure at 0x1b51ef1b4a8>"
      ]
     },
     "metadata": {},
     "output_type": "display_data"
    }
   ],
   "source": [
    "# Plot training & validation accuracy values\n",
    "plt.plot(history.history['acc'])\n",
    "plt.plot(history.history['val_acc'])\n",
    "plt.title('Model accuracy')\n",
    "plt.ylabel('Accuracy')\n",
    "plt.xlabel('Epoch')\n",
    "plt.legend(['Train', 'Test'], loc='upper left')\n",
    "plt.show()\n",
    "\n"
   ]
  },
  {
   "cell_type": "code",
   "execution_count": 128,
   "metadata": {},
   "outputs": [
    {
     "data": {
      "image/png": "[encoded data removed]",
      "text/plain": [
       "<matplotlib.figure.Figure at 0x1b5217e6e10>"
      ]
     },
     "metadata": {},
     "output_type": "display_data"
    }
   ],
   "source": [
    "# Plot training & validation loss values\n",
    "plt.plot(history.history['loss'])\n",
    "plt.plot(history.history['val_loss'])\n",
    "plt.title('Model loss')\n",
    "plt.ylabel('Loss')\n",
    "plt.xlabel('Epoch')\n",
    "plt.legend(['Train', 'Test'], loc='upper left')\n",
    "plt.show()"
   ]
  },
  {
   "cell_type": "code",
   "execution_count": 130,
   "metadata": {},
   "outputs": [
    {
     "name": "stdout",
     "output_type": "stream",
     "text": [
      "Accuracy : 99.77%\n"
     ]
    }
   ],
   "source": [
    "score = model_2.evaluate(x_test,y_test,verbose=0)\n",
    "print(\"Accuracy : %.2f%%\" % (score[1]*100))"
   ]
  },
  {
   "cell_type": "markdown",
   "metadata": {},
   "source": [
    "## 4. Conclusions: "
   ]
  },
  {
   "cell_type": "markdown",
   "metadata": {},
   "source": [
    "1. Starting with the problem, this is a binary class classfication problem.\n",
    "2. We are provided with a dataset of organic chemical compounds which belongs to a class either musk or non-musk.\n",
    "3. We initially had 170 features and we saw which to use and which not to use like conformation_name, ID, class, these features were droped.\n",
    "4. The column of class is used as class label, if 1 then musk and if 0 then non-musk.\n",
    "5. Then we started reading our data and try to analyse it using pandas.\n",
    "6. We observed that out dataset is imbalanced.\n",
    "7. So we used two oversampling techniques to deal with the imbalanced dataset.\n",
    "8. Also to scale the data before feeding it to the model we tried StandardSclaer and MinMaxSclaer.\n",
    "9. But at last we used StandardScaler as it was giving better accuracy for our model.\n",
    "10. Then we made sequential model with different oversampling techniques.\n",
    "11. We made models with random over sampler and smote oversampling.\n",
    "12. Also I observed that our model with random oversampling was getting better model accuracy.\n",
    "13. Then we used to plots to visualize the model performance, we used model acuracy plot and model loss plot.\n",
    "14. I have made two different models architectures, model_1(with random over sampler and SMOTE) and model_2(with random over sampler).\n"
   ]
  },
  {
   "cell_type": "code",
   "execution_count": null,
   "metadata": {},
   "outputs": [],
   "source": []
  }
 ],
 "metadata": {
  "kernelspec": {
   "display_name": "Python 3",
   "language": "python",
   "name": "python3"
  },
  "language_info": {
   "codemirror_mode": {
    "name": "ipython",
    "version": 3
   },
   "file_extension": ".py",
   "mimetype": "text/x-python",
   "name": "python",
   "nbconvert_exporter": "python",
   "pygments_lexer": "ipython3",
   "version": "3.6.4"
  }
 },
 "nbformat": 4,
 "nbformat_minor": 2
}
